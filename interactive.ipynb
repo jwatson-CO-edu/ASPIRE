{
 "cells": [
  {
   "cell_type": "code",
   "execution_count": null,
   "metadata": {},
   "outputs": [],
   "source": [
    "import ipywidgets as widgets\n",
    "from IPython.display import display\n",
    "import time\n",
    "import threading\n",
    "\n",
    "def move_robot(direction, duration=0.1):\n",
    "    print(f\"Moving {direction}\")\n",
    "\n",
    "def continuous_movement(direction):\n",
    "    while button_states[direction]:\n",
    "        move_robot(direction)\n",
    "        time.sleep(0.1) # adjust for finer control\n",
    "\n",
    "def on_button_clicked(b):\n",
    "    direction = b.owner.description\n",
    "    if b.new:\n",
    "        button_states[direction] = True\n",
    "        threading.Thread(target=continuous_movement, args=(direction,)).start()\n",
    "    else:\n",
    "        button_states[direction] = False\n",
    "\n",
    "\n",
    "button_states = {\n",
    "    'Forward': False,\n",
    "    'Backward': False,\n",
    "    'Left': False,\n",
    "    'Right': False,\n",
    "    'Up': False,\n",
    "    'Down': False,\n",
    "    'Tilt Up': False,\n",
    "    'Tilt Down': False,\n",
    "    'Rotate Left': False,\n",
    "    'Rotate Right': False\n",
    "}\n",
    "\n",
    "buttons = {\n",
    "    direction: widgets.ToggleButton(description=direction)\n",
    "    for direction in button_states.keys()\n",
    "}\n",
    "\n",
    "for button in buttons.values():\n",
    "    button.observe(on_button_clicked, 'value')\n",
    "    display(button)"
   ]
  },
  {
   "cell_type": "code",
   "execution_count": null,
   "metadata": {},
   "outputs": [],
   "source": []
  }
 ],
 "metadata": {
  "kernelspec": {
   "display_name": "Python 3",
   "language": "python",
   "name": "python3"
  },
  "language_info": {
   "codemirror_mode": {
    "name": "ipython",
    "version": 3
   },
   "file_extension": ".py",
   "mimetype": "text/x-python",
   "name": "python",
   "nbconvert_exporter": "python",
   "pygments_lexer": "ipython3",
   "version": "3.10.12"
  }
 },
 "nbformat": 4,
 "nbformat_minor": 2
}
