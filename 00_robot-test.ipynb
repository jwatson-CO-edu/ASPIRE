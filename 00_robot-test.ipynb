{
 "cells": [
  {
   "cell_type": "markdown",
   "id": "237933d3-fe5b-4dcf-a39c-6c08c2fe3817",
   "metadata": {
    "tags": []
   },
   "source": [
    "# Init"
   ]
  },
  {
   "cell_type": "code",
   "execution_count": 1,
   "id": "e812467f-c6e6-409d-8b7a-3b1c92dd6e14",
   "metadata": {},
   "outputs": [],
   "source": [
    "from magpie.ur5 import UR5_Interface"
   ]
  },
  {
   "cell_type": "code",
   "execution_count": 2,
   "id": "e380ea0f-e4b5-4d08-bc12-1a6b9cab9d8b",
   "metadata": {
    "tags": []
   },
   "outputs": [],
   "source": [
    "robot = UR5_Interface()"
   ]
  },
  {
   "cell_type": "markdown",
   "id": "5a89763e-d34c-4f1a-9e34-f8588bfcdd98",
   "metadata": {},
   "source": [
    "# Test"
   ]
  },
  {
   "cell_type": "code",
   "execution_count": 6,
   "id": "aabd6ff4-153b-41dd-935f-c99a2ec1b604",
   "metadata": {
    "tags": []
   },
   "outputs": [
    {
     "ename": "RuntimeError",
     "evalue": "One of the RTDE input registers are already in use! Currently you must disable the EtherNet/IP adapter, PROFINET or any MODBUS unit configured on the robot. This might change in the future.",
     "output_type": "error",
     "traceback": [
      "\u001b[0;31m---------------------------------------------------------------------------\u001b[0m",
      "\u001b[0;31mRuntimeError\u001b[0m                              Traceback (most recent call last)",
      "Cell \u001b[0;32mIn[6], line 1\u001b[0m\n\u001b[0;32m----> 1\u001b[0m \u001b[43mrobot\u001b[49m\u001b[38;5;241;43m.\u001b[39;49m\u001b[43mstart\u001b[49m\u001b[43m(\u001b[49m\u001b[43m)\u001b[49m\n",
      "File \u001b[0;32m~/MAGPIE/magpie/ur5.py:68\u001b[0m, in \u001b[0;36mUR5_Interface.start\u001b[0;34m(self)\u001b[0m\n\u001b[1;32m     66\u001b[0m \u001b[38;5;28;01mdef\u001b[39;00m \u001b[38;5;21mstart\u001b[39m( \u001b[38;5;28mself\u001b[39m ):\n\u001b[1;32m     67\u001b[0m \u001b[38;5;250m    \u001b[39m\u001b[38;5;124;03m\"\"\" Connect to RTDE and the gripper \"\"\"\u001b[39;00m\n\u001b[0;32m---> 68\u001b[0m     \u001b[38;5;28mself\u001b[39m\u001b[38;5;241m.\u001b[39mctrl \u001b[38;5;241m=\u001b[39m \u001b[43mrtde_control\u001b[49m\u001b[38;5;241;43m.\u001b[39;49m\u001b[43mRTDEControlInterface\u001b[49m\u001b[43m(\u001b[49m\u001b[43m \u001b[49m\u001b[38;5;28;43mself\u001b[39;49m\u001b[38;5;241;43m.\u001b[39;49m\u001b[43mrobotIP\u001b[49m\u001b[43m \u001b[49m\u001b[43m)\u001b[49m\n\u001b[1;32m     69\u001b[0m     \u001b[38;5;28mself\u001b[39m\u001b[38;5;241m.\u001b[39mrecv \u001b[38;5;241m=\u001b[39m rtde_receive\u001b[38;5;241m.\u001b[39mRTDEReceiveInterface( \u001b[38;5;28mself\u001b[39m\u001b[38;5;241m.\u001b[39mrobotIP )\n\u001b[1;32m     70\u001b[0m     servoPort \u001b[38;5;241m=\u001b[39m get_USB_port_with_desc( \u001b[38;5;124m\"\u001b[39m\u001b[38;5;124mOpenRB\u001b[39m\u001b[38;5;124m\"\u001b[39m )\n",
      "\u001b[0;31mRuntimeError\u001b[0m: One of the RTDE input registers are already in use! Currently you must disable the EtherNet/IP adapter, PROFINET or any MODBUS unit configured on the robot. This might change in the future."
     ]
    }
   ],
   "source": [
    "robot.start()"
   ]
  },
  {
   "cell_type": "code",
   "execution_count": 4,
   "id": "f9d0b5f3-9edd-4bb7-8a18-b862405a6c04",
   "metadata": {
    "tags": []
   },
   "outputs": [],
   "source": [
    "robot.move_safe()"
   ]
  },
  {
   "cell_type": "code",
   "execution_count": 5,
   "id": "18dd8fbc-2133-4111-a8dc-486b5be324c9",
   "metadata": {
    "tags": []
   },
   "outputs": [
    {
     "ename": "AttributeError",
     "evalue": "'NoneType' object has no attribute 'openGripper'",
     "output_type": "error",
     "traceback": [
      "\u001b[0;31m---------------------------------------------------------------------------\u001b[0m",
      "\u001b[0;31mAttributeError\u001b[0m                            Traceback (most recent call last)",
      "Cell \u001b[0;32mIn[5], line 1\u001b[0m\n\u001b[0;32m----> 1\u001b[0m \u001b[43mrobot\u001b[49m\u001b[38;5;241;43m.\u001b[39;49m\u001b[43mopen_gripper\u001b[49m\u001b[43m(\u001b[49m\u001b[43m)\u001b[49m\n",
      "File \u001b[0;32m~/MAGPIE/magpie/ur5.py:120\u001b[0m, in \u001b[0;36mUR5_Interface.open_gripper\u001b[0;34m(self)\u001b[0m\n\u001b[1;32m    118\u001b[0m \u001b[38;5;28;01mdef\u001b[39;00m \u001b[38;5;21mopen_gripper\u001b[39m( \u001b[38;5;28mself\u001b[39m ):\n\u001b[1;32m    119\u001b[0m \u001b[38;5;250m    \u001b[39m\u001b[38;5;124;03m\"\"\" Open gripper to the fullest extent \"\"\"\u001b[39;00m\n\u001b[0;32m--> 120\u001b[0m     \u001b[38;5;28;43mself\u001b[39;49m\u001b[38;5;241;43m.\u001b[39;49m\u001b[43mgripper\u001b[49m\u001b[38;5;241;43m.\u001b[39;49m\u001b[43mopenGripper\u001b[49m()\n",
      "\u001b[0;31mAttributeError\u001b[0m: 'NoneType' object has no attribute 'openGripper'"
     ]
    }
   ],
   "source": [
    "robot.open_gripper()"
   ]
  },
  {
   "cell_type": "code",
   "execution_count": null,
   "id": "7c4e9c64-5e19-4631-84e3-5d8e891b5d0f",
   "metadata": {
    "tags": []
   },
   "outputs": [],
   "source": [
    "robot.open_gripper()"
   ]
  },
  {
   "cell_type": "code",
   "execution_count": null,
   "id": "10fbf90e-9f54-4b14-9ca3-17311844293f",
   "metadata": {
    "tags": []
   },
   "outputs": [],
   "source": [
    "robot.set_gripper( 0.030 )"
   ]
  },
  {
   "cell_type": "code",
   "execution_count": null,
   "id": "aa16eefc-1ce7-4511-8218-7430b79bac44",
   "metadata": {
    "tags": []
   },
   "outputs": [],
   "source": [
    "robot.align_tcp()"
   ]
  },
  {
   "cell_type": "code",
   "execution_count": null,
   "id": "c6c95fa3-936f-452e-9033-b448ff7b0d6b",
   "metadata": {},
   "outputs": [],
   "source": [
    "robot.stop()"
   ]
  },
  {
   "cell_type": "code",
   "execution_count": null,
   "id": "26b59bcf-1cea-400b-9cf5-6bbf6a0f88b9",
   "metadata": {},
   "outputs": [],
   "source": []
  }
 ],
 "metadata": {
  "kernelspec": {
   "display_name": "Python 3 (ipykernel)",
   "language": "python",
   "name": "python3"
  },
  "language_info": {
   "codemirror_mode": {
    "name": "ipython",
    "version": 3
   },
   "file_extension": ".py",
   "mimetype": "text/x-python",
   "name": "python",
   "nbconvert_exporter": "python",
   "pygments_lexer": "ipython3",
   "version": "3.10.12"
  }
 },
 "nbformat": 4,
 "nbformat_minor": 5
}
