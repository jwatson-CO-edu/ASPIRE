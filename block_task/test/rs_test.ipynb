{
 "cells": [
  {
   "cell_type": "code",
   "execution_count": null,
   "metadata": {},
   "outputs": [
    {
     "ename": "RuntimeError",
     "evalue": "No device connected",
     "output_type": "error",
     "traceback": [
      "\u001b[0;31m---------------------------------------------------------------------------\u001b[0m",
      "\u001b[0;31mRuntimeError\u001b[0m                              Traceback (most recent call last)",
      "\u001b[1;32m/home/andreamiller/ris/Independent-Study-Robotics/Full-System/rs_test.ipynb Cell 1\u001b[0m line \u001b[0;36m8\n\u001b[1;32m      <a href='vscode-notebook-cell:/home/andreamiller/ris/Independent-Study-Robotics/Full-System/rs_test.ipynb#W0sZmlsZQ%3D%3D?line=5'>6</a>\u001b[0m config \u001b[39m=\u001b[39m rs\u001b[39m.\u001b[39mconfig()\n\u001b[1;32m      <a href='vscode-notebook-cell:/home/andreamiller/ris/Independent-Study-Robotics/Full-System/rs_test.ipynb#W0sZmlsZQ%3D%3D?line=6'>7</a>\u001b[0m config\u001b[39m.\u001b[39menable_stream(rs\u001b[39m.\u001b[39mstream\u001b[39m.\u001b[39mcolor, \u001b[39m1280\u001b[39m, \u001b[39m720\u001b[39m, rs\u001b[39m.\u001b[39mformat\u001b[39m.\u001b[39mbgr8, \u001b[39m30\u001b[39m)\n\u001b[0;32m----> <a href='vscode-notebook-cell:/home/andreamiller/ris/Independent-Study-Robotics/Full-System/rs_test.ipynb#W0sZmlsZQ%3D%3D?line=7'>8</a>\u001b[0m pipeline\u001b[39m.\u001b[39;49mstart(config)\n",
      "\u001b[0;31mRuntimeError\u001b[0m: No device connected"
     ]
    }
   ],
   "source": [
    "import cv2\n",
    "import pyrealsense2 as rs\n",
    "import numpy as np\n",
    "\n",
    "pipeline = rs.pipeline()\n",
    "config = rs.config()\n",
    "config.enable_stream(rs.stream.color, 1280, 720, rs.format.bgr8, 30)\n",
    "pipeline.start()\n",
    "\n"
   ]
  },
  {
   "cell_type": "code",
   "execution_count": null,
   "metadata": {},
   "outputs": [],
   "source": []
  }
 ],
 "metadata": {
  "kernelspec": {
   "display_name": "venv",
   "language": "python",
   "name": "python3"
  },
  "language_info": {
   "codemirror_mode": {
    "name": "ipython",
    "version": 3
   },
   "file_extension": ".py",
   "mimetype": "text/x-python",
   "name": "python",
   "nbconvert_exporter": "python",
   "pygments_lexer": "ipython3",
   "version": "3.10.12"
  }
 },
 "nbformat": 4,
 "nbformat_minor": 2
}
