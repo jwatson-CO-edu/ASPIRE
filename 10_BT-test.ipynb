{
 "cells": [
  {
   "cell_type": "markdown",
   "id": "5cb49abe-a1d4-4250-9100-de2520d57619",
   "metadata": {},
   "source": [
    "# Init"
   ]
  },
  {
   "cell_type": "code",
   "execution_count": 1,
   "id": "f0695e66-f333-4f2e-a358-ce7ebf5ebe20",
   "metadata": {
    "tags": []
   },
   "outputs": [],
   "source": [
    "### Basic Imports ###\n",
    "import builtins, csv, datetime, os, subprocess, time, types, pprint\n",
    "from time import sleep\n",
    "from pprint import pprint\n",
    "now = time.time\n",
    "\n",
    "### Special Imports ###\n",
    "import numpy as np\n",
    "from numpy import sqrt\n",
    "\n",
    "import py_trees\n",
    "from py_trees.behaviour import Behaviour\n",
    "from py_trees.common import Status\n",
    "from py_trees.composites import Selector, Sequence\n",
    "from py_trees.decorators import FailureIsSuccess\n",
    "import py_trees.console as console\n",
    "\n",
    "### Local Imports ###\n",
    "from magpie.poses import pose_error\n",
    "\n",
    "\n",
    "### Restore Vars ###\n",
    "# %store -r"
   ]
  },
  {
   "cell_type": "markdown",
   "id": "68f534ea-0b7e-440e-8e0e-b8a2e24ce694",
   "metadata": {},
   "source": [
    "# Behaviors"
   ]
  },
  {
   "cell_type": "code",
   "execution_count": 2,
   "id": "062d71e1-e194-4daa-afbc-3b518bb4aa53",
   "metadata": {
    "tags": []
   },
   "outputs": [],
   "source": [
    "########## BASE CLASS ##############################################################################\n",
    "\n",
    "class BasicBehavior( Behaviour ):\n",
    "    \"\"\" Abstract class for repetitive housekeeping \"\"\"\n",
    "    \n",
    "    \n",
    "    def __init__( self, name = None, ctrl = None ):\n",
    "        \"\"\" Set name to the child class name unless otherwise specified \"\"\"\n",
    "        if name is None:\n",
    "            super().__init__( name = str( self.__class__.__name__  ) )\n",
    "        else:\n",
    "            super().__init__( name = name )\n",
    "        self.ctrl = ctrl\n",
    "        self.logger.debug( f\"[{self.name}::__init__()]\" )\n",
    "        if self.ctrl is None:\n",
    "            self.logger.warn( f\"{self.name} is NOT conntected to a robot controller!\" )\n",
    "\n",
    "        \n",
    "    def setup(self):\n",
    "        self.logger.debug( f\"[{self.name}::setup()]\" )          \n",
    "        \n",
    "        \n",
    "    def initialise( self ):\n",
    "        \"\"\" Run first time behaviour is ticked or not RUNNING.  Will be run again after SUCCESS/FAILURE. \"\"\"\n",
    "        self.status = Status.RUNNING # Do not let the behavior idle in INVALID\n",
    "        self.logger.debug( f\"[{self.name}::initialise()]\" )          \n",
    "\n",
    "        \n",
    "    def terminate( self, new_status ):\n",
    "        \"\"\" Log how the behavior terminated \"\"\"\n",
    "        self.status = new_status\n",
    "        self.logger.debug( f\"[{self.name}::terminate().terminate()][{self.status}->{new_status}]\" )\n",
    "        \n",
    "        \n",
    "    def update( self ):\n",
    "        \"\"\" Return true in all cases \"\"\"\n",
    "        self.status = py_trees.common.Status.SUCCESS\n",
    "        return self.status"
   ]
  },
  {
   "cell_type": "code",
   "execution_count": 3,
   "id": "7b328f45-90bb-46dd-94b4-17445d729f76",
   "metadata": {
    "tags": []
   },
   "outputs": [],
   "source": [
    "########## CONSTANTS & COMPONENTS ##################################################################\n",
    "\n",
    "### Init data structs & Keys ###\n",
    "builtins._DUMMYPOSE     = np.eye(4)\n",
    "builtins.MP2BB = dict()  # Hack the BB object into the built-in namespace\n",
    "builtins.SCAN_POSE_KEY  = \"scanPoses\"\n",
    "builtins.HAND_OBJ_KEY   = \"handHas\"\n",
    "PROTO_PICK_ROT = np.array( [[ 0.0,  1.0,  0.0, ],\n",
    "                            [ 1.0,  0.0,  0.0, ],\n",
    "                            [ 0.0,  0.0, -1.0, ]] )\n",
    "\n",
    "### Set important BB items ###\n",
    "MP2BB[ SCAN_POSE_KEY ] = dict()\n",
    "\n"
   ]
  },
  {
   "cell_type": "code",
   "execution_count": 4,
   "id": "8b30b0ae-0f21-4770-9180-94f19a742bc3",
   "metadata": {
    "tags": []
   },
   "outputs": [],
   "source": [
    "########## MOVEMENT BEHAVIORS ######################################################################\n",
    "\n",
    "### Constants ###\n",
    "LIBBT_TS_S       = 0.25\n",
    "DEFAULT_TRAN_ERR = 0.002\n",
    "DEFAULT_ORNT_ERR = 3*np.pi/180.0"
   ]
  },
  {
   "cell_type": "code",
   "execution_count": 5,
   "id": "5a8b7cfc-d458-4089-bbc1-85295d2e7d28",
   "metadata": {
    "tags": []
   },
   "outputs": [],
   "source": [
    "##### Move_Q #####################################\n",
    "\n",
    "\n",
    "class Move_Q( BasicBehavior ):\n",
    "    \"\"\" Move the joint config `qPos` \"\"\"\n",
    "    \n",
    "    def __init__( self, qPos, name = None, ctrl = None, rotSpeed = 1.05, rotAccel = 1.4, asynch = True ):\n",
    "        \"\"\" Set the target \"\"\"\n",
    "        # NOTE: Asynchronous motion is closest to the Behavior Tree paradigm, Avoid blocking!\n",
    "        super().__init__( name, ctrl )\n",
    "        self.qPos     = qPos\n",
    "        self.rotSpeed = rotSpeed\n",
    "        self.rotAccel = rotAccel\n",
    "        self.asynch   = asynch\n",
    "    \n",
    "    \n",
    "    def initialise( self ):\n",
    "        \"\"\" Actually Move \"\"\"\n",
    "        super().initialise()\n",
    "        self.ctrl.moveJ( self.qPos, self.rotSpeed, self.rotAccel, self.asynch )\n",
    "    \n",
    "    \n",
    "    def update( self ):\n",
    "        \"\"\" Return SUCCESS if the target reached \"\"\"\n",
    "        if self.ctrl.p_moving():\n",
    "            self.status = Status.RUNNING\n",
    "        else:\n",
    "            error = np.subtract( self.qPos, self.ctrl.get_joint_angles() )\n",
    "            error = error.dot( error )\n",
    "            if( error > 0.1 ):\n",
    "                self.status = Status.FAILURE\n",
    "            else:\n",
    "                self.status = Status.SUCCESS \n",
    "        return self.status"
   ]
  },
  {
   "cell_type": "code",
   "execution_count": 6,
   "id": "2ee24c2a-21da-4213-89cc-b1b490abf122",
   "metadata": {
    "tags": []
   },
   "outputs": [],
   "source": [
    "##### Move_Arm ###################################\n",
    "    \n",
    "    \n",
    "class Move_Arm( BasicBehavior ):\n",
    "    \"\"\" Move linearly in task space to the designated pose \"\"\"\n",
    "    \n",
    "    def __init__( self, pose, name = None, ctrl = None, linSpeed = 0.25, linAccel = 0.5, asynch = True ):\n",
    "        \"\"\" Set the target \"\"\"\n",
    "        # NOTE: Asynchronous motion is closest to the Behavior Tree paradigm, Avoid blocking!\n",
    "        super().__init__( name, ctrl )\n",
    "        self.pose     = pose\n",
    "        self.linSpeed = linSpeed\n",
    "        self.linAccel = linAccel\n",
    "        self.asynch   = asynch\n",
    "        \n",
    "        \n",
    "    def initialise( self ):\n",
    "        \"\"\" Actually Move \"\"\"\n",
    "        super().initialise()\n",
    "        self.ctrl.moveL( self.pose, self.linSpeed, self.linAccel, self.asynch )\n",
    "        \n",
    "        \n",
    "    def update( self ):\n",
    "        \"\"\" Return true if the target reached \"\"\"\n",
    "        if self.ctrl.p_moving():\n",
    "            self.status = Status.RUNNING\n",
    "        else:\n",
    "            pM = self.ctrl.get_tcp_pose()\n",
    "            pD = self.pose\n",
    "            [errT, errO] = pose_error( pM, pD )\n",
    "            if (errT <= DEFAULT_TRAN_ERR) and (errO <= DEFAULT_ORNT_ERR):\n",
    "                self.status = Status.SUCCESS\n",
    "            else:\n",
    "                print( self.name, \", POSE ERROR:\", [errT, errO] )\n",
    "                self.status = Status.FAILURE\n",
    "        return self.status"
   ]
  },
  {
   "cell_type": "code",
   "execution_count": 7,
   "id": "31dac917-f571-4558-b103-7016524d3245",
   "metadata": {
    "tags": []
   },
   "outputs": [],
   "source": [
    "##### Open_Hand ##################################\n",
    "    \n",
    "    \n",
    "class Open_Gripper( BasicBehavior ):\n",
    "    \"\"\" Open fingers to max extent \"\"\"\n",
    "    \n",
    "    def __init__( self, name = None, ctrl = None  ):\n",
    "        \"\"\" Set the target \"\"\"\n",
    "        super().__init__( name, ctrl )\n",
    "        self.wait_s = 0.5\n",
    "        \n",
    "        \n",
    "    def initialise( self ):\n",
    "        \"\"\" Actually Move \"\"\"\n",
    "        super().initialise()\n",
    "        self.ctrl.open_gripper()\n",
    "        sleep( self.wait_s )\n",
    "        \n",
    "        \n",
    "    def update( self ):\n",
    "        \"\"\" Return true if the target reached \"\"\"\n",
    "        self.status = Status.SUCCESS\n",
    "        return self.status\n",
    "        "
   ]
  },
  {
   "cell_type": "code",
   "execution_count": 8,
   "id": "4d2347df-2654-4823-ac60-0e264e499bad",
   "metadata": {
    "tags": []
   },
   "outputs": [],
   "source": [
    "##### Set_Fingers ##################################\n",
    "    \n",
    "    \n",
    "class Set_Gripper( BasicBehavior ):\n",
    "    \"\"\" Open fingers to max extent \"\"\"\n",
    "    \n",
    "    def __init__( self, width_m, name = None, ctrl = None  ):\n",
    "        \"\"\" Set the target \"\"\"\n",
    "        super().__init__( name, ctrl )\n",
    "        self.width_m = width_m\n",
    "        self.wait_s = 0.5\n",
    "        \n",
    "        \n",
    "    def initialise( self ):\n",
    "        \"\"\" Actually Move \"\"\"\n",
    "        super().initialise()\n",
    "        self.ctrl.set_gripper( self.width_m )\n",
    "        sleep( self.wait_s )\n",
    "        \n",
    "    \n",
    "    def update( self ):\n",
    "        \"\"\" Return true if the target reached \"\"\"\n",
    "        self.status = Status.SUCCESS\n",
    "        return self.status"
   ]
  },
  {
   "cell_type": "code",
   "execution_count": 9,
   "id": "23815ec5-660d-47a5-b934-120d96ba60d2",
   "metadata": {
    "tags": []
   },
   "outputs": [],
   "source": [
    "##### Close_Hand ##################################\n",
    "    \n",
    "    \n",
    "class Close_Gripper( BasicBehavior ):\n",
    "    \"\"\" Close fingers completely \"\"\"\n",
    "    \n",
    "    def __init__( self, name = None, ctrl = None  ):\n",
    "        \"\"\" Set the target \"\"\"\n",
    "        super().__init__( name, ctrl )\n",
    "        self.wait_s = 0.5\n",
    "        \n",
    "        \n",
    "    def initialise( self ):\n",
    "        \"\"\" Actually Move \"\"\"\n",
    "        super().initialise()\n",
    "        self.ctrl.close_gripper()\n",
    "        sleep( self.wait_s )\n",
    "        \n",
    "        \n",
    "    def update( self ):\n",
    "        \"\"\" Return true if the target reached \"\"\"\n",
    "        self.status = Status.SUCCESS\n",
    "        return self.status"
   ]
  },
  {
   "cell_type": "code",
   "execution_count": 10,
   "id": "c9174efd-e5cd-41f4-9108-5bea71d9fe6e",
   "metadata": {
    "tags": []
   },
   "outputs": [],
   "source": [
    "##### Jog_Safe ###################################\n",
    "\n",
    "class Jog_Safe( Sequence ):\n",
    "    \"\"\" Move to a target by traversing at a safe altitude \"\"\"\n",
    "    # NOTE: This behavior should not, on its own, assume any gripper state\n",
    "    \n",
    "    def __init__( self, endPose, zSAFE=0.150, name=\"Jog_Safe\", \n",
    "                  ctrl  = None ):\n",
    "        \"\"\"Construct the subtree\"\"\"\n",
    "        super().__init__( name = name, memory = True )\n",
    "        \n",
    "        # Init #\n",
    "        self.zSAFE = max( zSAFE, endPose[2,3] ) # Eliminate (some) silly vertical movements\n",
    "        self.ctrl  = ctrl\n",
    "        \n",
    "        # Poses to be Modified at Ticktime #\n",
    "        self.targetP = endPose.copy()\n",
    "        self.pose1up = _DUMMYPOSE.copy()\n",
    "        self.pose2up = _DUMMYPOSE.copy()\n",
    "        \n",
    "        # Behaviors whose poses will be modified #\n",
    "        self.moveUp = Move_Arm( self.pose1up, ctrl=ctrl )\n",
    "        self.moveJg = Move_Arm( self.pose2up, ctrl=ctrl )\n",
    "        self.mvTrgt = Move_Arm( self.targetP, ctrl=ctrl )\n",
    "        \n",
    "        \n",
    "        # 1. Move direcly up from the starting pose\n",
    "        self.add_child( self.moveUp )\n",
    "        # 2. Translate to above the target\n",
    "        self.add_child( self.moveJg )\n",
    "        # 3. Move to the target pose\n",
    "        self.add_child( self.mvTrgt )\n",
    "       \n",
    "        \n",
    "    def initialise( self ):\n",
    "        \"\"\"\n",
    "        ( Ticked first time ) or ( ticked not RUNNING ):\n",
    "        Generate move waypoint, then move with condition\n",
    "        \"\"\"\n",
    "        nowPose = self.ctrl.get_tcp_pose()\n",
    "        \n",
    "        self.pose1up = nowPose.copy()\n",
    "        self.pose1up[2, 3] = self.zSAFE\n",
    "\n",
    "        self.pose2up = self.targetP.copy()\n",
    "        self.pose2up[2, 3] = self.zSAFE\n",
    "\n",
    "        self.moveUp.pose = self.pose1up.copy()\n",
    "        self.moveJg.pose = self.pose2up.copy()\n",
    "        self.mvTrgt.pose = self.targetP.copy()"
   ]
  },
  {
   "cell_type": "code",
   "execution_count": 11,
   "id": "75d58e52-8e0a-46bd-91be-f30a3db908b0",
   "metadata": {
    "tags": []
   },
   "outputs": [],
   "source": [
    "########## MANIPULATION BEHAVIORS ##################################################################\n",
    "\n",
    "\n",
    "class Pick_at_Pose( Sequence ):\n",
    "    \"\"\" Grasp at a target pose (Robot Frame) while traversing at a safe altitude \"\"\"\n",
    "    # NOTE: This behavior should not, on its own, assume any gripper state\n",
    "\n",
    "    def __init__( self, target, zSAFE = 0.150, preGraspW_m = None, name = \"Pick_at_Pose\", ctrl = None ):\n",
    "        \"\"\"Construct the subtree\"\"\"\n",
    "        super().__init__( name = name, memory = True)\n",
    "        self.ctrl = ctrl\n",
    "        \n",
    "        # 1. Open the gripper\n",
    "        if preGraspW_m is None:\n",
    "            self.add_child(  Open_Gripper( name = \"Open\", ctrl = ctrl )  )\n",
    "        else:\n",
    "            self.add_child(  Set_Gripper( preGraspW_m, name = \"Open\", ctrl = ctrl )  )\n",
    "        # 2. Jog to the target\n",
    "        self.add_child(  Jog_Safe( target, name = \"Jog to Grasp Pose\", ctrl = ctrl )  )\n",
    "        # 1. Close the gripper\n",
    "        self.add_child(  Close_Gripper( name = \"Close\", ctrl = ctrl )  )"
   ]
  },
  {
   "cell_type": "code",
   "execution_count": 12,
   "id": "aecc5c78-09c5-4866-a088-8c5ad858fef4",
   "metadata": {
    "tags": []
   },
   "outputs": [],
   "source": [
    "########## EXECUTION ###############################################################################\n",
    "\n",
    "\n",
    "class HeartRate: \n",
    "    \"\"\" Sleeps for a time such that the period between calls to sleep results in a frequency not greater than the specified 'Hz' \"\"\"\n",
    "    # NOTE: This fulfills a purpose similar to the rospy rate\n",
    "    \n",
    "    def __init__( self , Hz ):\n",
    "        \"\"\" Create a rate object with a Do-Not-Exceed frequency in 'Hz' \"\"\"\n",
    "        self.period = 1.0 / Hz; # Set the period as the inverse of the frequency , hearbeat will not exceed 'Hz' , but can be lower\n",
    "        self.last = time.time()\n",
    "        \n",
    "    def check_elapsed( self, reset = True ):\n",
    "        \"\"\" Check if the period has elapsed, Optionally `reset` the clock \"\"\"\n",
    "        elapsed = time.time() - self.last\n",
    "        update  = elapsed >= self.period\n",
    "        if( update and reset ):\n",
    "            self.last = time.time()\n",
    "        return update\n",
    "    \n",
    "    def sleep( self ):\n",
    "        \"\"\" Sleep for a time so that the frequency is not exceeded \"\"\"\n",
    "        elapsed = time.time() - self.last\n",
    "        if elapsed < self.period:\n",
    "            time.sleep( self.period - elapsed )\n",
    "        self.last = time.time()\n",
    "\n",
    "\n",
    "\"\"\" Return a formatted timestamp string, useful for logging and debugging \"\"\"\n",
    "def nowTimeStamp(): return datetime.datetime.now().strftime(\n",
    "    '%Y-%m-%d_%H-%M-%S')  # http://stackoverflow.com/a/5215012/893511\n",
    "\n",
    "\n",
    "\n",
    "class StopBeetle:\n",
    "    \"\"\"Invasive Beetle: Kills (stops) all branches of the tree\"\"\"\n",
    "\n",
    "    def __init__(self, killStatus):\n",
    "        \"\"\"Set the status that will be assigned to all branches\"\"\"\n",
    "        self.status = killStatus\n",
    "\n",
    "    def run(self, behav):\n",
    "        \"\"\"Kill all subtrees\"\"\"\n",
    "        for chld in behav.children:\n",
    "            self.run(chld)\n",
    "        behav.stop(self.status)\n",
    "\n",
    "\n",
    "        \n",
    "def run_BT_until_done(\n",
    "    rootNode,\n",
    "    N              = 10000,\n",
    "    tickPause      =     0.25,\n",
    "    Nverb          =    50,\n",
    "    breakOnFailure = True,\n",
    "    breakOnSuccess = True,\n",
    "    treeUpdate     = 0,\n",
    "    failureTree    = 1,\n",
    "    successTree    = 0,\n",
    "):\n",
    "    \"\"\"Tick root until `maxIter` is reached while printing to terminal\"\"\"\n",
    "\n",
    "    if Nverb:\n",
    "        print(\n",
    "            \"About to run\",\n",
    "            type( rootNode ),\n",
    "            \"named\",\n",
    "            rootNode.name,\n",
    "            \"at\",\n",
    "            nowTimeStamp(),\n",
    "            \"with\",\n",
    "            1 / tickPause,\n",
    "            \"Hz update frequency ...\",\n",
    "        )\n",
    "\n",
    "    # 0. Setup\n",
    "    # rootNode.setup_subtree( childrenFirst = 0 )\n",
    "    rootNode.setup_with_descendants()\n",
    "    pacer = HeartRate(Hz=1 / tickPause)  # metronome\n",
    "\n",
    "    if Nverb:\n",
    "        print(\"Running ...\\n\")\n",
    "\n",
    "    # 1. Run\n",
    "    for i in range(1, N + 1):\n",
    "        try:\n",
    "            rootNode.tick_once()\n",
    "\n",
    "            if Nverb > 0 and i % Nverb == 0:\n",
    "                print(\"\\n--------- Tick {0} ---------\\n\".format(i))\n",
    "                print(\"Root node, Name:\", rootNode.name, \", Status:\", rootNode.status)\n",
    "                print(\"\\n\")\n",
    "                if treeUpdate:\n",
    "                    print(\n",
    "                        py_trees.display.unicode_tree(root=rootNode, show_status=True)\n",
    "                    )\n",
    "\n",
    "            if breakOnFailure and (rootNode.status == Status.FAILURE):\n",
    "                print(\"Root node\", rootNode.name, \"failed!\\n\")\n",
    "                if failureTree:\n",
    "                    print(\n",
    "                        py_trees.display.unicode_tree(root=rootNode, show_status=True)\n",
    "                    )\n",
    "                break\n",
    "            elif breakOnSuccess and (rootNode.status == Status.SUCCESS):\n",
    "                print(\"Root node\", rootNode.name, \"succeeded!\\n\")\n",
    "                if successTree:\n",
    "                    print(\n",
    "                        py_trees.display.unicode_tree(root=rootNode, show_status=True)\n",
    "                    )\n",
    "                break\n",
    "            else:\n",
    "                pacer.sleep()\n",
    "\n",
    "        except KeyboardInterrupt:\n",
    "            print(\"\\nSimulation HALTED by user at\", nowTimeStamp())\n",
    "            break\n",
    "\n",
    "    print(\"\\nRun completed! with status:\", rootNode.status, \"\\n\\n\")\n",
    "\n",
    "    insect = StopBeetle(rootNode.status)\n",
    "\n",
    "    for i in range(3):\n",
    "        rootNode.visit(insect)  # HACK required coz tree doesn't complete sometimes\n",
    "        sleep(0.5)\n",
    "\n",
    "    print(\"Root node\", rootNode.name, \"was killed by the running script!\")"
   ]
  },
  {
   "cell_type": "markdown",
   "id": "441d2b37-5101-42f4-baae-e489f110287e",
   "metadata": {},
   "source": [
    "# Test"
   ]
  },
  {
   "cell_type": "code",
   "execution_count": 13,
   "id": "71ac580c-2e4f-412c-b86b-10869d335254",
   "metadata": {
    "tags": []
   },
   "outputs": [],
   "source": [
    "from magpie.ur5 import UR5_Interface"
   ]
  },
  {
   "cell_type": "code",
   "execution_count": 14,
   "id": "10d35dbb-4abd-4ef8-9e56-21d3098b8d4a",
   "metadata": {
    "tags": []
   },
   "outputs": [],
   "source": [
    "robot = UR5_Interface()"
   ]
  },
  {
   "cell_type": "code",
   "execution_count": 15,
   "id": "4935c7fd",
   "metadata": {},
   "outputs": [
    {
     "name": "stdout",
     "output_type": "stream",
     "text": [
      "Succeeded to open the port\n",
      "Succeeded to change the baudrate\n",
      "Moving speed of dxl ID: 1 set to 100 \n",
      "Moving speed of dxl ID: 2 set to 100 \n"
     ]
    }
   ],
   "source": [
    "robot.start()"
   ]
  },
  {
   "cell_type": "code",
   "execution_count": 16,
   "id": "a03cd295",
   "metadata": {},
   "outputs": [],
   "source": [
    "b1 = Set_Gripper(0.058, name = 'set gripper', ctrl =  robot)\n",
    "b2 = Open_Gripper(name = 'open gripper', ctrl = robot)"
   ]
  },
  {
   "cell_type": "code",
   "execution_count": 17,
   "id": "f5802f85",
   "metadata": {},
   "outputs": [
    {
     "name": "stdout",
     "output_type": "stream",
     "text": [
      "About to run <class '__main__.Set_Gripper'> named set gripper at 2024-04-12_13-39-28 with 4.0 Hz update frequency ...\n",
      "Running ...\n",
      "\n",
      "Position of dxl ID: 1 set to 443 \n",
      "Position of dxl ID: 2 set to 596 \n"
     ]
    },
    {
     "name": "stdout",
     "output_type": "stream",
     "text": [
      "Root node set gripper succeeded!\n",
      "\n",
      "\n",
      "Run completed! with status: Status.SUCCESS \n",
      "\n",
      "\n",
      "Root node set gripper was killed by the running script!\n"
     ]
    }
   ],
   "source": [
    "run_BT_until_done(b1)"
   ]
  },
  {
   "cell_type": "code",
   "execution_count": 18,
   "id": "fc2f8cfd",
   "metadata": {},
   "outputs": [
    {
     "name": "stdout",
     "output_type": "stream",
     "text": [
      "About to run <class '__main__.Open_Gripper'> named open gripper at 2024-04-12_13-39-30 with 4.0 Hz update frequency ...\n",
      "Running ...\n",
      "\n",
      "Position of dxl ID: 1 set to 303 \n",
      "Position of dxl ID: 2 set to 729 \n",
      "Root node open gripper succeeded!\n",
      "\n",
      "\n",
      "Run completed! with status: Status.SUCCESS \n",
      "\n",
      "\n",
      "Root node open gripper was killed by the running script!\n"
     ]
    }
   ],
   "source": [
    "run_BT_until_done(b2)"
   ]
  },
  {
   "cell_type": "code",
   "execution_count": 19,
   "id": "d7fc6827",
   "metadata": {},
   "outputs": [],
   "source": [
    "##### Get Gripper Force ###################\n",
    "    \n",
    "class Get_Gripper_Force( BasicBehavior ):\n",
    "    def __init__( self, name = None, ctrl = None  ):\n",
    "        \"\"\" Set the target \"\"\"\n",
    "        super().__init__( name, ctrl )\n",
    "        self.wait_s = 0.5\n",
    "        \n",
    "        \n",
    "    def initialise( self ):\n",
    "        \"\"\" Actually get the force \"\"\"\n",
    "        super().initialise()\n",
    "        print(self.ctrl.get_gripper_force()[1])\n",
    "        sleep( self.wait_s )"
   ]
  },
  {
   "cell_type": "code",
   "execution_count": 20,
   "id": "631bb257",
   "metadata": {},
   "outputs": [
    {
     "name": "stdout",
     "output_type": "stream",
     "text": [
      "About to run <class '__main__.Get_Gripper_Force'> named get gripper force at 2024-04-12_13-39-32 with 4.0 Hz update frequency ...\n",
      "Running ...\n",
      "\n",
      "0.0\n",
      "Root node get gripper force succeeded!\n",
      "\n",
      "\n",
      "Run completed! with status: Status.SUCCESS \n",
      "\n",
      "\n",
      "Root node get gripper force was killed by the running script!\n"
     ]
    }
   ],
   "source": [
    "bF = Get_Gripper_Force( name = 'get gripper force', ctrl = robot )\n",
    "run_BT_until_done(bF)"
   ]
  },
  {
   "cell_type": "code",
   "execution_count": 21,
   "id": "85a53ac9",
   "metadata": {},
   "outputs": [],
   "source": [
    "class Set_Gripper_Angles( BasicBehavior ):\n",
    "    \"\"\" Open fingers to max extent \"\"\"\n",
    "    \n",
    "    def __init__( self, angle1, angle2, name = None, ctrl = None  ):\n",
    "        \"\"\" Set the target \"\"\"\n",
    "        super().__init__( name, ctrl )\n",
    "        self.angle1 = angle1\n",
    "        self.angle2 = angle2\n",
    "        self.wait_s = 0.5\n",
    "        \n",
    "        \n",
    "    def initialise( self ):\n",
    "        \"\"\" Actually Move \"\"\"\n",
    "        super().initialise()\n",
    "        self.ctrl.set_gripper_angles( self.angle1, self.angle2 )\n",
    "        sleep( self.wait_s )\n",
    "        \n",
    "    \n",
    "    def update( self ):\n",
    "        \"\"\" Return true if the target reached \"\"\"\n",
    "        self.status = Status.SUCCESS\n",
    "        return self.status"
   ]
  },
  {
   "cell_type": "code",
   "execution_count": 22,
   "id": "9bb99038",
   "metadata": {},
   "outputs": [],
   "source": [
    "# bx = Set_Gripper_Angles(100, 216, name = 'set gripper angles', ctrl =  robot)\n",
    "# bx = Open_Gripper(name = 'open gripper', ctrl = robot)"
   ]
  },
  {
   "cell_type": "code",
   "execution_count": 23,
   "id": "da17f13e",
   "metadata": {},
   "outputs": [],
   "source": [
    "# run_BT_until_done(bx)"
   ]
  },
  {
   "cell_type": "code",
   "execution_count": 24,
   "id": "8207658e",
   "metadata": {},
   "outputs": [],
   "source": [
    "from magpie import poses\n",
    "# mtrx = poses.pose_vec_to_mtrx([-0.13138038, -0.59637503, 0.10047517, 2, 1, 1])\n",
    "\n",
    "# print(mtrx)\n",
    "\n",
    "# poseA = robot.get_tcp_pose()\n",
    "# print(poseA)\n",
    "\n",
    "# poseB = poses.translate_pose(poseA, [0, 0, 0], dir_pose=\"self\")\n",
    "# print(poseB)"
   ]
  },
  {
   "cell_type": "code",
   "execution_count": 25,
   "id": "c95a555a",
   "metadata": {},
   "outputs": [],
   "source": [
    "# b3 = Move_Arm(poseB, name = 'move arm', ctrl = robot, linSpeed = 0.25, linAccel = 0.5, asynch = True)"
   ]
  },
  {
   "cell_type": "code",
   "execution_count": 26,
   "id": "8d43d3a4",
   "metadata": {},
   "outputs": [],
   "source": [
    "# run_BT_until_done(b3)"
   ]
  },
  {
   "cell_type": "code",
   "execution_count": 27,
   "id": "c7eb8a89",
   "metadata": {},
   "outputs": [],
   "source": [
    "# bx = Set_Gripper_Angles(120, 216, name = 'set gripper angles', ctrl =  robot)\n",
    "# b2 = Open_Gripper(name = 'open gripper', ctrl = robot)"
   ]
  },
  {
   "cell_type": "code",
   "execution_count": 28,
   "id": "ba3ebd8c",
   "metadata": {},
   "outputs": [],
   "source": [
    "# run_BT_until_done(bx)"
   ]
  },
  {
   "cell_type": "code",
   "execution_count": 29,
   "id": "d98194d4",
   "metadata": {},
   "outputs": [],
   "source": [
    "# bx = Set_Gripper_Angles(140, 216, name = 'set gripper angles', ctrl =  robot)\n",
    "# run_BT_until_done(bx)"
   ]
  },
  {
   "cell_type": "code",
   "execution_count": 30,
   "id": "fbac0370",
   "metadata": {},
   "outputs": [
    {
     "name": "stdout",
     "output_type": "stream",
     "text": [
      "About to run <class '__main__.Open_Gripper'> named open gripper at 2024-04-12_13-39-34 with 4.0 Hz update frequency ...\n",
      "Running ...\n",
      "\n",
      "Position of dxl ID: 1 set to 303 \n",
      "Position of dxl ID: 2 set to 729 \n",
      "Root node open gripper succeeded!\n",
      "\n",
      "\n",
      "Run completed! with status: Status.SUCCESS \n",
      "\n",
      "\n"
     ]
    },
    {
     "name": "stdout",
     "output_type": "stream",
     "text": [
      "Root node open gripper was killed by the running script!\n"
     ]
    }
   ],
   "source": [
    "bx = Open_Gripper(name = 'open gripper', ctrl =  robot)\n",
    "run_BT_until_done(bx)"
   ]
  },
  {
   "cell_type": "markdown",
   "id": "3becc2f2",
   "metadata": {},
   "source": [
    "[[ 0.99993051  0.00710841  0.00940482 -0.10754238]\n",
    " [ 0.00986928 -0.06840585 -0.99760876 -0.58571257]\n",
    " [-0.00644806  0.99763225 -0.06847125  0.2081723 ]\n",
    " [ 0.          0.          0.          1.        ]]"
   ]
  },
  {
   "cell_type": "code",
   "execution_count": 31,
   "id": "2b9d6464",
   "metadata": {},
   "outputs": [],
   "source": [
    "# pick_behav = Pick_at_Pose(poseA, zSAFE = 0.150, preGraspW_m = None, name = \"Pick_at_Pose\", ctrl = robot)"
   ]
  },
  {
   "cell_type": "code",
   "execution_count": 32,
   "id": "be5b33c4",
   "metadata": {},
   "outputs": [],
   "source": [
    "# run_BT_until_done(pick_behav)"
   ]
  },
  {
   "cell_type": "code",
   "execution_count": 33,
   "id": "6e79fc2f",
   "metadata": {},
   "outputs": [
    {
     "name": "stdout",
     "output_type": "stream",
     "text": [
      "[-1.57084877e+00 -1.04721433e+00 -1.57084686e+00 -4.18879825e+00\n",
      " -1.57084209e+00  4.79369010e-05]\n"
     ]
    }
   ],
   "source": [
    "poseC = robot.get_joint_angles()\n",
    "print(poseC)\n",
    "\n",
    "# b4 = Move_Q(poseC, name = None, ctrl = robot, rotSpeed = 1.05, rotAccel = 1.4, asynch = True)"
   ]
  },
  {
   "cell_type": "code",
   "execution_count": 34,
   "id": "23a60377",
   "metadata": {},
   "outputs": [],
   "source": [
    "# poseC[1] += 0.3\n",
    "# print(poseC)\n",
    "\n",
    "# b4 = Move_Q(poseC, name = None, ctrl = robot, rotSpeed = 1.05, rotAccel = 1.4, asynch = True)"
   ]
  },
  {
   "cell_type": "code",
   "execution_count": 35,
   "id": "0e0cd89d",
   "metadata": {},
   "outputs": [],
   "source": [
    "# run_BT_until_done(b4)"
   ]
  },
  {
   "cell_type": "code",
   "execution_count": 36,
   "id": "5968c301",
   "metadata": {},
   "outputs": [
    {
     "name": "stdout",
     "output_type": "stream",
     "text": [
      "[[ 0.99998392  0.00282519 -0.00491633 -0.11159616]\n",
      " [-0.00284072 -0.50077295 -0.86557402 -0.39480592]\n",
      " [-0.00490738  0.86557407 -0.50075687  0.38966835]\n",
      " [ 0.          0.          0.          1.        ]]\n"
     ]
    }
   ],
   "source": [
    "pose_ = robot.get_tcp_pose()\n",
    "print(pose_)"
   ]
  },
  {
   "cell_type": "code",
   "execution_count": 37,
   "id": "31befed9",
   "metadata": {},
   "outputs": [],
   "source": [
    "# b5 = Pick_at_Pose(pose_, zSAFE = 0.150, preGraspW_m = None, name = \"Pick_at_Pose\", ctrl = robot)"
   ]
  },
  {
   "cell_type": "code",
   "execution_count": 38,
   "id": "073d468b",
   "metadata": {},
   "outputs": [],
   "source": [
    "class Set_Gripper_Angles_After_Delay( BasicBehavior ):\n",
    "    \"\"\" Set gripper angles after a time delay \"\"\"\n",
    "    \n",
    "    def __init__( self, angle1, angle2, name = None, ctrl = None  ):\n",
    "        \"\"\" Set the target \"\"\"\n",
    "        super().__init__( name, ctrl )\n",
    "        self.angle1 = angle1\n",
    "        self.angle2 = angle2\n",
    "        self.wait_s = 0.5\n",
    "        \n",
    "        \n",
    "    def initialise( self ):\n",
    "        \"\"\" Actually Move \"\"\"\n",
    "        super().initialise()\n",
    "\n",
    "        sleep( self.wait_s )\n",
    "        self.ctrl.set_gripper_angles( self.angle1, self.angle2 )\n",
    "        sleep( self.wait_s )\n",
    "        \n",
    "    \n",
    "    def update( self ):\n",
    "        \"\"\" Return true if the target reached \"\"\"\n",
    "        self.status = Status.SUCCESS\n",
    "        return self.status"
   ]
  },
  {
   "cell_type": "code",
   "execution_count": 39,
   "id": "f9bfdaea",
   "metadata": {},
   "outputs": [],
   "source": [
    "##### Tip_Over_Box ###################################\n",
    "\n",
    "from magpie import poses\n",
    "    \n",
    "class Tip_Over_Box( Sequence ):\n",
    "    \"\"\" Tip over and pick up the box, assuming the correct start position. \"\"\"\n",
    "\n",
    "    def __init__( self, posesX, name = \"Tip_Over_Box\", ctrl = None ):\n",
    "        \"\"\"Construct the subtree\"\"\"\n",
    "        super().__init__( name = name, memory = True)\n",
    "        self.ctrl = ctrl\n",
    "        self.posesX = posesX\n",
    "\n",
    "        self.mvTrgt = Open_Gripper(ctrl=ctrl )\n",
    "        self.add_child( self.mvTrgt )\n",
    "\n",
    "        # POSITION GRIPPER TO TOP OF BOX\n",
    "        self.mvTrgt = Move_Arm( self.posesX[0], ctrl=ctrl )\n",
    "        self.add_child( self.mvTrgt )\n",
    "        \n",
    "        # MOVE GRIPPER TO CORRECT ORIENTATION\n",
    "        self.mvTrgt = Move_Arm( self.posesX[1], ctrl=ctrl )\n",
    "        self.add_child( self.mvTrgt )\n",
    "        \n",
    "        # MOVE TOP GRIPPER INTO POSITION\n",
    "        self.mvTrgt = Set_Gripper_Angles( 120, 216, ctrl=ctrl )\n",
    "        self.add_child( self.mvTrgt )\n",
    "\n",
    "        # MOVE ARM DOWNWARD UNTIL CONTACT\n",
    "        self.mvTrgt = Move_Arm( self.posesX[2], ctrl=ctrl )\n",
    "        self.add_child( self.mvTrgt )\n",
    "\n",
    "        # ADJUST GRIPPER POSITION\n",
    "        self.mvTrgt = Set_Gripper_Angles( 120, 195, ctrl=ctrl )\n",
    "        self.add_child( self.mvTrgt )\n",
    "\n",
    "        # self.mvTrgt = Move_Arm( self.poses[5], ctrl=ctrl )\n",
    "        # self.add_child( self.mvTrgt )\n",
    "\n",
    "        # MOVE BACKWARD TO TIP BOX\n",
    "        self.mvTrgt = Move_Arm( self.posesX[3], ctrl=ctrl )\n",
    "        self.add_child( self.mvTrgt )\n",
    "\n",
    "        # OPEN TOP GRIPPER TO ALLOW BOX TO FALL\n",
    "        self.mvTrgt = Set_Gripper_Angles( 85, 195, ctrl=ctrl )\n",
    "        self.add_child( self.mvTrgt )\n",
    "\n",
    "        # OPEN BOTTOM GRIPPER TO ADJUST BOX FURTHER\n",
    "        self.mvTrgt = Set_Gripper_Angles_After_Delay( 85, 216, ctrl=ctrl )\n",
    "        self.add_child( self.mvTrgt )\n",
    "\n",
    "        newPose = poses.translate_pose(np.array(posesX[3]), [-0.03, 0, 0.03], dir_pose=\"self\")\n",
    "\n",
    "        # MOVE FORWARD\n",
    "        self.mvTrgt = Move_Arm( newPose, ctrl=ctrl )\n",
    "        self.add_child( self.mvTrgt )\n",
    "\n",
    "        # CLOSE TOP GRIPPER TO GRAB BOX\n",
    "        self.mvTrgt = Set_Gripper_Angles_After_Delay( 140, 216, ctrl=ctrl )\n",
    "        self.add_child( self.mvTrgt )\n",
    "\n",
    "        self.mvTrgt = Set_Gripper( 0.056, ctrl=ctrl )\n",
    "        self.add_child( self.mvTrgt )\n",
    "\n",
    "        self.mvTrgt = Move_Arm( self.posesX[4], ctrl=ctrl )\n",
    "        self.add_child( self.mvTrgt )"
   ]
  },
  {
   "cell_type": "code",
   "execution_count": 40,
   "id": "47c95cb9",
   "metadata": {},
   "outputs": [],
   "source": [
    "posesX = [[[ 0.99789511,  0.0122757,  -0.06367615, -0.11642388],\n",
    " [-0.06399342,  0.02746575, -0.99757229, -0.67249229],\n",
    " [-0.01049699,  0.99954737,  0.0281935,   0.22991059],\n",
    " [ 0.,          0.,          0.,          1.        ]],\n",
    " [[ 0.00977942, -0.999209,   -0.03854528, -0.1163872 ],\n",
    " [-0.5803814,   0.02571804, -0.81393858, -0.67247468],\n",
    " [ 0.81428606,  0.03033081, -0.57967081,  0.30402206],\n",
    " [ 0.,          0.,          0.,          1.,        ]],\n",
    " [[ 0.0097527,  -0.99920752, -0.03859033, -0.11711042],\n",
    " [-0.58035142,  0.02577135, -0.81395827, -0.67245884],\n",
    " [ 0.81430775,  0.03033424, -0.57964017,  0.17557186],\n",
    " [ 0.,          0.,          0.,          1.        ]],\n",
    " [[ 0.01682541, -0.99877234, -0.04659097, -0.11879721],\n",
    " [-0.57637935,  0.02838736, -0.81668905, -0.59182293],\n",
    " [ 0.81700903,  0.0405952,  -0.57519412,  0.15571098],\n",
    " [ 0.,          0.,          0.,          1.,        ]],\n",
    " [[ 0.01684079, -0.99877571, -0.046513,   -0.11875802],\n",
    " [-0.57646161,  0.02831067, -0.81663365, -0.4122375 ],\n",
    " [ 0.81695067,  0.04056571, -0.57527909,  0.31449564],\n",
    " [ 0.,          0.,          0.,          1.,        ]]]"
   ]
  },
  {
   "cell_type": "code",
   "execution_count": 41,
   "id": "888a53c7",
   "metadata": {},
   "outputs": [
    {
     "name": "stdout",
     "output_type": "stream",
     "text": [
      "About to run <class '__main__.Move_Q'> named Move_Q at 2024-04-12_13-39-36 with 4.0 Hz update frequency ...\n",
      "Running ...\n",
      "\n",
      "Root node Move_Q succeeded!\n",
      "\n",
      "\n",
      "Run completed! with status: Status.SUCCESS \n",
      "\n",
      "\n"
     ]
    },
    {
     "name": "stdout",
     "output_type": "stream",
     "text": [
      "Root node Move_Q was killed by the running script!\n"
     ]
    }
   ],
   "source": [
    "# print(poses.pose_mtrx_to_vec( np.array([[ 0.01684079, -0.99877571, -0.046513,   -0.11875802],\n",
    "#  [-0.57646161,  0.02831067, -0.81663365, -0.4122375 ],\n",
    "#  [ 0.81695067,  0.04056571, -0.57527909,  0.31449564],\n",
    "#  [ 0.,          0.,          0.,          1.,        ]])))\n",
    "\n",
    "# pose_ = [[ 0.01684079, -0.99877571, -0.046513,   -0.11875802],\n",
    "#  [-0.57646161,  0.02831067, -0.81663365, -0.4122375 ],\n",
    "#  [ 0.81695067,  0.04056571, -0.57527909,  0.31449564],\n",
    "#  [ 0.,          0.,          0.,          1.,        ]]\n",
    "# # pose_ = poses.pose_vec_to_mtrx(np.array([-0.1, -0.4, 0.3, 0, np.pi / 4, 0]))\n",
    "# # print(pose_)\n",
    "\n",
    "# # alpha = 0\n",
    "# # beta = -np.pi / 2.0\n",
    "# # gamma = 0\n",
    "# # pose_ = [[np.cos(alpha) * np.cos(beta)]]\n",
    "\n",
    "# pose_ = [[ 1,  0,  0, -0.2],\n",
    "#          [ 0,  0, -1, -0.8],\n",
    "#          [ 0,  1,  0,  0.2],\n",
    "#          [ 0., 0., 0., 1. ]]\n",
    "\n",
    "# pose_ =  [[ 0.01682541, -0.99877234, -0.04659097, -0.11879721],\n",
    "#  [-0.57637935,  0.02838736, -0.81668905, -0.59182293],\n",
    "#  [ 0.81700903,  0.0405952,  -0.57519412,  0.15571098],\n",
    "#  [ 0.,          0.,          0.,          1.,        ]]\n",
    "\n",
    "# print(poses.pose_mtrx_to_vec(np.array(pose_)))\n",
    "# pose_ = poses.pose_vec_to_mtrx(np.array([-0.1, -0.67, 0.30, np.pi / 2.0, -np.pi / 2.0, np.pi / 4.0]))\n",
    "\n",
    "\n",
    "\n",
    "# x_coordinate = -0.2\n",
    "# y_coordinate = -0.8\n",
    "# rotation_amount = 0.0\n",
    "\n",
    "# pose_ = poses.pose_vec_to_mtrx(np.array([x_coordinate, y_coordinate, 0.16, np.pi / 2.0, rotation_amount, rotation_amount]))\n",
    "# b_ = Move_Arm(pose_, name = 'move arm', ctrl = robot, linSpeed = 0.25, linAccel = 0.5, asynch = True)\n",
    "# run_BT_until_done(b_)\n",
    "\n",
    "# pose_ = robot.get_tcp_pose()\n",
    "# print(pose_)\n",
    "# print(poses.pose_mtrx_to_vec(np.array(pose_)))\n",
    "\n",
    "\n",
    "\n",
    "\n",
    "# poseC = robot.get_joint_angles()\n",
    "# print(poseC)\n",
    "\n",
    "# poseC = np.array([-np.pi / 2.0, -np.pi / 3.0, -np.pi / 2.0, -np.pi * 4.0 / 3.0, -np.pi / 2.0, np.pi / 2.0])\n",
    "poseC = np.array([-np.pi / 2.0, -np.pi / 3.0, -np.pi / 2.0, -np.pi * 4.0 / 3.0, -np.pi / 2.0, 0])\n",
    "\n",
    "b4 = Move_Q(poseC, name = None, ctrl = robot, rotSpeed = 1.05, rotAccel = 1.4, asynch = True)\n",
    "run_BT_until_done(b4)\n",
    "\n",
    "# print(poses.pose_vec_to_mtrx(poseC))"
   ]
  },
  {
   "cell_type": "code",
   "execution_count": 42,
   "id": "99f8f3ef",
   "metadata": {},
   "outputs": [],
   "source": [
    "robot.stop()"
   ]
  },
  {
   "cell_type": "code",
   "execution_count": 43,
   "id": "d706ed1a",
   "metadata": {},
   "outputs": [],
   "source": [
    "# bTB = Tip_Over_Box(posesX, name = 'Tipping Over Box', ctrl = robot)\n",
    "# run_BT_until_done(bTB)"
   ]
  },
  {
   "cell_type": "code",
   "execution_count": 44,
   "id": "95dfbba3",
   "metadata": {},
   "outputs": [],
   "source": [
    "# poseZ = [[ 0.00977942, -0.999209,   -0.03854528, -0.1163872 ],\n",
    "# [-0.5803814,   0.02571804, -0.81393858, -0.67247468],\n",
    "# [ 0.81428606,  0.03033081, -0.57967081,  0.30402206],\n",
    "# [ 0.,          0.,          0.,          1.        ]]\n",
    "\n",
    "# startPose = [[1, 0, 0, -0.1],\n",
    "#              [0, 0, -1, -0.6],\n",
    "#              [0, 1, 0, 0.15],\n",
    "#              [0, 0, 0, 1]]\n",
    "\n",
    "# bZ = Move_Arm(startPose, name = 'move arm', ctrl = robot, linSpeed = 0.25, linAccel = 0.5, asynch = True)\n",
    "# run_BT_until_done(bZ)"
   ]
  },
  {
   "cell_type": "code",
   "execution_count": 45,
   "id": "156b3bce",
   "metadata": {},
   "outputs": [
    {
     "name": "stdout",
     "output_type": "stream",
     "text": [
      "Jupyter environment detected. Enabling Open3D WebVisualizer.\n",
      "[Open3D INFO] WebRTC GUI backend enabled.\n",
      "[Open3D INFO] WebRTCWindowSystem: HTTP handshake server disabled.\n"
     ]
    }
   ],
   "source": [
    "from RealSense import RealSense\n",
    "# import ObjectDetection as ob\n",
    "# from magpie.ur5 import UR5_Interface\n",
    "import open3d as o3d"
   ]
  },
  {
   "cell_type": "code",
   "execution_count": 46,
   "id": "d6bf5d82",
   "metadata": {},
   "outputs": [],
   "source": [
    "def displayWorld(worldPCD):\n",
    "    coordFrame = o3d.geometry.TriangleMesh.create_coordinate_frame(size=0.05)\n",
    "    geometry = [coordFrame]\n",
    "    geometry.append(worldPCD)\n",
    "    o3d.visualization.draw_geometries(geometry)"
   ]
  },
  {
   "cell_type": "code",
   "execution_count": 47,
   "id": "ffe10ec7",
   "metadata": {},
   "outputs": [],
   "source": [
    "# urPose = robot.get_tcp_pose()\n",
    "# print(urPose)\n",
    "\n",
    "# urJointAngles = robot.get_joint_angles()\n",
    "# print(urJointAngles)\n",
    "\n",
    "# try:\n",
    "#     detector = ob.ObjectDetection(real,None,moveRelative = True)\n",
    "# except Exception as e:\n",
    "#     # detector.real.pipe.stop()\n",
    "#     raise(e)\n",
    "\n",
    "real = RealSense(1.0)\n",
    "real.initConnection()\n",
    "\n",
    "pcd,rgbdImage = real.getPCD()\n",
    "depthImage,colorImage = rgbdImage.depth,rgbdImage.color\n",
    "# displayWorld(pcd)\n",
    "# real.disconnect()"
   ]
  },
  {
   "cell_type": "code",
   "execution_count": 48,
   "id": "73a696a7",
   "metadata": {},
   "outputs": [
    {
     "data": {
      "image/png": "[encoded data removed]",
      "text/plain": [
       "<Figure size 640x480 with 2 Axes>"
      ]
     },
     "metadata": {},
     "output_type": "display_data"
    }
   ],
   "source": [
    "real.displayImages(depthImage, colorImage)"
   ]
  },
  {
   "cell_type": "code",
   "execution_count": null,
   "id": "201b2904",
   "metadata": {},
   "outputs": [],
   "source": [
    "# real.displayPCD([pcd])"
   ]
  },
  {
   "cell_type": "code",
   "execution_count": null,
   "id": "2b931ce2",
   "metadata": {},
   "outputs": [],
   "source": [
    "# robot.stop()"
   ]
  },
  {
   "cell_type": "code",
   "execution_count": null,
   "id": "35e35743-eac1-435a-bb30-ae29fe0d4554",
   "metadata": {
    "tags": []
   },
   "outputs": [],
   "source": [
    "# poseA = [[ 0.99826425,  0.04047501, -0.04278145, -0.13138038],\n",
    "#          [-0.02754608, -0.32117340, -0.94661970, -0.59637503],\n",
    "#          [-0.05205471,  0.94615507, -0.31950100,  0.10047517],\n",
    "#          [ 0.        ,  0.        ,  0.        ,  1.        ]]\n",
    "\n",
    "# # open_gripper( self )\n",
    "\n",
    "# __init__( self, pose, name = None, ctrl = None, linSpeed = 0.25, linAccel = 0.5, asynch = True ):\n",
    "\n",
    "# b1 = Move_Arm( poseA, \"Move to A\", ctrl = robot )\n",
    "\n",
    "# Set_Gripper( BasicBehavior ):\n",
    "    \n",
    "#     def __init__( self, width_m, name = None, ctrl = None  ):"
   ]
  },
  {
   "cell_type": "code",
   "execution_count": null,
   "id": "3bc361bc-355d-4b85-aea3-685d7d666ec0",
   "metadata": {
    "tags": []
   },
   "outputs": [],
   "source": [
    "# b2 = Move_Arm( poseB, \"Move to B\", ctrl = robot )"
   ]
  },
  {
   "cell_type": "code",
   "execution_count": null,
   "id": "42952622-ab39-46f0-ace6-df6c92105d57",
   "metadata": {
    "tags": []
   },
   "outputs": [],
   "source": [
    "# run_BT_until_done( b2 )"
   ]
  },
  {
   "cell_type": "code",
   "execution_count": null,
   "id": "8afcff19-4a2b-42d5-8638-8db6d50bf9eb",
   "metadata": {
    "tags": []
   },
   "outputs": [],
   "source": [
    "# s1 = Sequence( \"Jog Jog\", True )\n",
    "# s1.add_children([\n",
    "#     Jog_Safe( poseB, zSAFE = 0.300, name = \"Jog B\", ctrl = robot ),\n",
    "#     Jog_Safe( poseA, zSAFE = 0.300, name = \"Jog A\", ctrl = robot ),\n",
    "# ])"
   ]
  },
  {
   "cell_type": "code",
   "execution_count": null,
   "id": "1229fe9b-0483-4e8f-a05c-fee7fc3df386",
   "metadata": {
    "tags": []
   },
   "outputs": [],
   "source": [
    "# run_BT_until_done( s1 )"
   ]
  },
  {
   "cell_type": "code",
   "execution_count": null,
   "id": "af193020-fdeb-4ddc-94da-7571b417248a",
   "metadata": {
    "tags": []
   },
   "outputs": [],
   "source": [
    "# robot.stop()"
   ]
  },
  {
   "cell_type": "markdown",
   "id": "9a883c00-8a4c-4dfd-b663-585c59c19f53",
   "metadata": {},
   "source": [
    "# Setup"
   ]
  },
  {
   "cell_type": "code",
   "execution_count": null,
   "id": "4b585ad1-af87-4c18-9256-7985ef1f4dd5",
   "metadata": {
    "tags": []
   },
   "outputs": [],
   "source": [
    "# poseA = robot.get_tcp_pose()\n",
    "# %store poseA"
   ]
  },
  {
   "cell_type": "code",
   "execution_count": null,
   "id": "85b54dcd-bbaf-4d40-9c82-be3d48a24c63",
   "metadata": {
    "tags": []
   },
   "outputs": [],
   "source": [
    "# poseB = robot.get_tcp_pose()\n",
    "# %store poseB"
   ]
  }
 ],
 "metadata": {
  "kernelspec": {
   "display_name": "Python 3 (ipykernel)",
   "language": "python",
   "name": "python3"
  },
  "language_info": {
   "codemirror_mode": {
    "name": "ipython",
    "version": 3
   },
   "file_extension": ".py",
   "mimetype": "text/x-python",
   "name": "python",
   "nbconvert_exporter": "python",
   "pygments_lexer": "ipython3",
   "version": "3.10.12"
  }
 },
 "nbformat": 4,
 "nbformat_minor": 5
}
